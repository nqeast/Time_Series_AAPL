{
 "cells": [
  {
   "cell_type": "markdown",
   "id": "1f16ebeb",
   "metadata": {},
   "source": [
    "Objective: The model's predictions will be used for strategic decision-making, such as identifying buying or selling opportunities.\n",
    "Scope: Data Type: Daily closing prices of the stock.\n",
    "Time Frame: Last 5 years of data.\n",
    "Evaluation Metric: Choose metrics to evaluate the model (e.g., RMSE, MAE, MAPE)."
   ]
  },
  {
   "cell_type": "code",
   "execution_count": 1,
   "id": "14724fc6",
   "metadata": {},
   "outputs": [
    {
     "name": "stderr",
     "output_type": "stream",
     "text": [
      "2024-12-28 11:09:27.916332: I tensorflow/core/platform/cpu_feature_guard.cc:210] This TensorFlow binary is optimized to use available CPU instructions in performance-critical operations.\n",
      "To enable the following instructions: AVX2 AVX512F AVX512_VNNI FMA, in other operations, rebuild TensorFlow with the appropriate compiler flags.\n"
     ]
    }
   ],
   "source": [
    "import numpy as np\n",
    "import pandas as pd\n",
    "import matplotlib.pyplot as plt\n",
    "import seaborn as sns\n",
    "from statsmodels.tsa.stattools import adfuller\n",
    "from sklearn.metrics import mean_squared_error, mean_absolute_error\n",
    "import yfinance as yf\n",
    "from statsmodels.tsa.arima.model import ARIMA\n",
    "from pmdarima import auto_arima\n",
    "from sklearn.preprocessing import MinMaxScaler\n",
    "from tensorflow.keras.models import Sequential\n",
    "from tensorflow.keras.layers import LSTM, Dense, Dropout\n",
    "from prophet import Prophet\n",
    "from sklearn.preprocessing import StandardScaler\n",
    "import warnings\n",
    "warnings.filterwarnings('ignore')\n",
    "%matplotlib inline"
   ]
  },
  {
   "cell_type": "code",
   "execution_count": 2,
   "id": "df82e47c",
   "metadata": {
    "scrolled": true
   },
   "outputs": [
    {
     "name": "stderr",
     "output_type": "stream",
     "text": [
      "[*********************100%***********************]  3 of 3 completed\n"
     ]
    }
   ],
   "source": [
    "tickers = ['AAPL', 'MSFT', 'GOOG']\n",
    "data = yf.download(tickers, start='2018-01-01', end='2023-01-01')"
   ]
  },
  {
   "cell_type": "markdown",
   "id": "291b6d4f",
   "metadata": {},
   "source": [
    "EPA"
   ]
  },
  {
   "cell_type": "markdown",
   "id": "bf32c167",
   "metadata": {},
   "source": [
    "Based on the business objective, focus on Close as primary target variable for each ticker (AAPL, GOOG, MSFT)"
   ]
  },
  {
   "cell_type": "code",
   "execution_count": 3,
   "id": "83162dc2",
   "metadata": {},
   "outputs": [
    {
     "data": {
      "text/html": [
       "<div>\n",
       "<style scoped>\n",
       "    .dataframe tbody tr th:only-of-type {\n",
       "        vertical-align: middle;\n",
       "    }\n",
       "\n",
       "    .dataframe tbody tr th {\n",
       "        vertical-align: top;\n",
       "    }\n",
       "\n",
       "    .dataframe thead tr th {\n",
       "        text-align: left;\n",
       "    }\n",
       "\n",
       "    .dataframe thead tr:last-of-type th {\n",
       "        text-align: right;\n",
       "    }\n",
       "</style>\n",
       "<table border=\"1\" class=\"dataframe\">\n",
       "  <thead>\n",
       "    <tr>\n",
       "      <th>Price</th>\n",
       "      <th colspan=\"3\" halign=\"left\">Adj Close</th>\n",
       "      <th colspan=\"3\" halign=\"left\">Close</th>\n",
       "      <th colspan=\"3\" halign=\"left\">High</th>\n",
       "      <th colspan=\"3\" halign=\"left\">Low</th>\n",
       "      <th colspan=\"3\" halign=\"left\">Open</th>\n",
       "      <th colspan=\"3\" halign=\"left\">Volume</th>\n",
       "    </tr>\n",
       "    <tr>\n",
       "      <th>Ticker</th>\n",
       "      <th>AAPL</th>\n",
       "      <th>GOOG</th>\n",
       "      <th>MSFT</th>\n",
       "      <th>AAPL</th>\n",
       "      <th>GOOG</th>\n",
       "      <th>MSFT</th>\n",
       "      <th>AAPL</th>\n",
       "      <th>GOOG</th>\n",
       "      <th>MSFT</th>\n",
       "      <th>AAPL</th>\n",
       "      <th>GOOG</th>\n",
       "      <th>MSFT</th>\n",
       "      <th>AAPL</th>\n",
       "      <th>GOOG</th>\n",
       "      <th>MSFT</th>\n",
       "      <th>AAPL</th>\n",
       "      <th>GOOG</th>\n",
       "      <th>MSFT</th>\n",
       "    </tr>\n",
       "    <tr>\n",
       "      <th>Date</th>\n",
       "      <th></th>\n",
       "      <th></th>\n",
       "      <th></th>\n",
       "      <th></th>\n",
       "      <th></th>\n",
       "      <th></th>\n",
       "      <th></th>\n",
       "      <th></th>\n",
       "      <th></th>\n",
       "      <th></th>\n",
       "      <th></th>\n",
       "      <th></th>\n",
       "      <th></th>\n",
       "      <th></th>\n",
       "      <th></th>\n",
       "      <th></th>\n",
       "      <th></th>\n",
       "      <th></th>\n",
       "    </tr>\n",
       "  </thead>\n",
       "  <tbody>\n",
       "    <tr>\n",
       "      <th>2018-01-02</th>\n",
       "      <td>40.524342</td>\n",
       "      <td>53.059349</td>\n",
       "      <td>79.792908</td>\n",
       "      <td>43.064999</td>\n",
       "      <td>53.250000</td>\n",
       "      <td>85.949997</td>\n",
       "      <td>43.075001</td>\n",
       "      <td>53.347000</td>\n",
       "      <td>86.309998</td>\n",
       "      <td>42.314999</td>\n",
       "      <td>52.261501</td>\n",
       "      <td>85.500000</td>\n",
       "      <td>42.540001</td>\n",
       "      <td>52.417000</td>\n",
       "      <td>86.129997</td>\n",
       "      <td>102223600</td>\n",
       "      <td>24752000</td>\n",
       "      <td>22483800</td>\n",
       "    </tr>\n",
       "    <tr>\n",
       "      <th>2018-01-03</th>\n",
       "      <td>40.517288</td>\n",
       "      <td>53.930225</td>\n",
       "      <td>80.164261</td>\n",
       "      <td>43.057499</td>\n",
       "      <td>54.124001</td>\n",
       "      <td>86.349998</td>\n",
       "      <td>43.637501</td>\n",
       "      <td>54.314499</td>\n",
       "      <td>86.510002</td>\n",
       "      <td>42.990002</td>\n",
       "      <td>53.160500</td>\n",
       "      <td>85.970001</td>\n",
       "      <td>43.132500</td>\n",
       "      <td>53.215500</td>\n",
       "      <td>86.059998</td>\n",
       "      <td>118071600</td>\n",
       "      <td>28604000</td>\n",
       "      <td>26061400</td>\n",
       "    </tr>\n",
       "    <tr>\n",
       "      <th>2018-01-04</th>\n",
       "      <td>40.705490</td>\n",
       "      <td>54.125523</td>\n",
       "      <td>80.869820</td>\n",
       "      <td>43.257500</td>\n",
       "      <td>54.320000</td>\n",
       "      <td>87.110001</td>\n",
       "      <td>43.367500</td>\n",
       "      <td>54.678501</td>\n",
       "      <td>87.660004</td>\n",
       "      <td>43.020000</td>\n",
       "      <td>54.200100</td>\n",
       "      <td>86.570000</td>\n",
       "      <td>43.134998</td>\n",
       "      <td>54.400002</td>\n",
       "      <td>86.589996</td>\n",
       "      <td>89738400</td>\n",
       "      <td>20092000</td>\n",
       "      <td>21912000</td>\n",
       "    </tr>\n",
       "  </tbody>\n",
       "</table>\n",
       "</div>"
      ],
      "text/plain": [
       "Price       Adj Close                            Close                        \\\n",
       "Ticker           AAPL       GOOG       MSFT       AAPL       GOOG       MSFT   \n",
       "Date                                                                           \n",
       "2018-01-02  40.524342  53.059349  79.792908  43.064999  53.250000  85.949997   \n",
       "2018-01-03  40.517288  53.930225  80.164261  43.057499  54.124001  86.349998   \n",
       "2018-01-04  40.705490  54.125523  80.869820  43.257500  54.320000  87.110001   \n",
       "\n",
       "Price            High                              Low                        \\\n",
       "Ticker           AAPL       GOOG       MSFT       AAPL       GOOG       MSFT   \n",
       "Date                                                                           \n",
       "2018-01-02  43.075001  53.347000  86.309998  42.314999  52.261501  85.500000   \n",
       "2018-01-03  43.637501  54.314499  86.510002  42.990002  53.160500  85.970001   \n",
       "2018-01-04  43.367500  54.678501  87.660004  43.020000  54.200100  86.570000   \n",
       "\n",
       "Price            Open                           Volume                      \n",
       "Ticker           AAPL       GOOG       MSFT       AAPL      GOOG      MSFT  \n",
       "Date                                                                        \n",
       "2018-01-02  42.540001  52.417000  86.129997  102223600  24752000  22483800  \n",
       "2018-01-03  43.132500  53.215500  86.059998  118071600  28604000  26061400  \n",
       "2018-01-04  43.134998  54.400002  86.589996   89738400  20092000  21912000  "
      ]
     },
     "execution_count": 3,
     "metadata": {},
     "output_type": "execute_result"
    }
   ],
   "source": [
    "data.head(3)"
   ]
  },
  {
   "cell_type": "code",
   "execution_count": 4,
   "id": "7c0a2dfc",
   "metadata": {},
   "outputs": [
    {
     "data": {
      "text/html": [
       "<div>\n",
       "<style scoped>\n",
       "    .dataframe tbody tr th:only-of-type {\n",
       "        vertical-align: middle;\n",
       "    }\n",
       "\n",
       "    .dataframe tbody tr th {\n",
       "        vertical-align: top;\n",
       "    }\n",
       "\n",
       "    .dataframe thead th {\n",
       "        text-align: right;\n",
       "    }\n",
       "</style>\n",
       "<table border=\"1\" class=\"dataframe\">\n",
       "  <thead>\n",
       "    <tr style=\"text-align: right;\">\n",
       "      <th>Ticker</th>\n",
       "      <th>AAPL</th>\n",
       "      <th>GOOG</th>\n",
       "      <th>MSFT</th>\n",
       "    </tr>\n",
       "    <tr>\n",
       "      <th>Date</th>\n",
       "      <th></th>\n",
       "      <th></th>\n",
       "      <th></th>\n",
       "    </tr>\n",
       "  </thead>\n",
       "  <tbody>\n",
       "    <tr>\n",
       "      <th>2018-01-02</th>\n",
       "      <td>43.064999</td>\n",
       "      <td>53.250000</td>\n",
       "      <td>85.949997</td>\n",
       "    </tr>\n",
       "    <tr>\n",
       "      <th>2018-01-03</th>\n",
       "      <td>43.057499</td>\n",
       "      <td>54.124001</td>\n",
       "      <td>86.349998</td>\n",
       "    </tr>\n",
       "    <tr>\n",
       "      <th>2018-01-04</th>\n",
       "      <td>43.257500</td>\n",
       "      <td>54.320000</td>\n",
       "      <td>87.110001</td>\n",
       "    </tr>\n",
       "    <tr>\n",
       "      <th>2018-01-05</th>\n",
       "      <td>43.750000</td>\n",
       "      <td>55.111500</td>\n",
       "      <td>88.190002</td>\n",
       "    </tr>\n",
       "    <tr>\n",
       "      <th>2018-01-08</th>\n",
       "      <td>43.587502</td>\n",
       "      <td>55.347000</td>\n",
       "      <td>88.279999</td>\n",
       "    </tr>\n",
       "  </tbody>\n",
       "</table>\n",
       "</div>"
      ],
      "text/plain": [
       "Ticker           AAPL       GOOG       MSFT\n",
       "Date                                       \n",
       "2018-01-02  43.064999  53.250000  85.949997\n",
       "2018-01-03  43.057499  54.124001  86.349998\n",
       "2018-01-04  43.257500  54.320000  87.110001\n",
       "2018-01-05  43.750000  55.111500  88.190002\n",
       "2018-01-08  43.587502  55.347000  88.279999"
      ]
     },
     "execution_count": 4,
     "metadata": {},
     "output_type": "execute_result"
    }
   ],
   "source": [
    "# create dataframe for closing prices for the tickers\n",
    "closing_prices = data['Close']\n",
    "\n",
    "# check dataframe \n",
    "closing_prices.head()"
   ]
  },
  {
   "cell_type": "code",
   "execution_count": 5,
   "id": "4df92b4e",
   "metadata": {
    "scrolled": true
   },
   "outputs": [
    {
     "data": {
      "text/html": [
       "<div>\n",
       "<style scoped>\n",
       "    .dataframe tbody tr th:only-of-type {\n",
       "        vertical-align: middle;\n",
       "    }\n",
       "\n",
       "    .dataframe tbody tr th {\n",
       "        vertical-align: top;\n",
       "    }\n",
       "\n",
       "    .dataframe thead th {\n",
       "        text-align: right;\n",
       "    }\n",
       "</style>\n",
       "<table border=\"1\" class=\"dataframe\">\n",
       "  <thead>\n",
       "    <tr style=\"text-align: right;\">\n",
       "      <th>Ticker</th>\n",
       "      <th>AAPL</th>\n",
       "      <th>GOOG</th>\n",
       "      <th>MSFT</th>\n",
       "    </tr>\n",
       "  </thead>\n",
       "  <tbody>\n",
       "    <tr>\n",
       "      <th>count</th>\n",
       "      <td>1259.000000</td>\n",
       "      <td>1259.000000</td>\n",
       "      <td>1259.000000</td>\n",
       "    </tr>\n",
       "    <tr>\n",
       "      <th>mean</th>\n",
       "      <td>98.092897</td>\n",
       "      <td>85.966515</td>\n",
       "      <td>193.873447</td>\n",
       "    </tr>\n",
       "    <tr>\n",
       "      <th>std</th>\n",
       "      <td>46.309891</td>\n",
       "      <td>31.244992</td>\n",
       "      <td>74.612296</td>\n",
       "    </tr>\n",
       "    <tr>\n",
       "      <th>min</th>\n",
       "      <td>35.547501</td>\n",
       "      <td>48.811001</td>\n",
       "      <td>85.010002</td>\n",
       "    </tr>\n",
       "    <tr>\n",
       "      <th>25%</th>\n",
       "      <td>51.022501</td>\n",
       "      <td>58.421999</td>\n",
       "      <td>119.599998</td>\n",
       "    </tr>\n",
       "    <tr>\n",
       "      <th>50%</th>\n",
       "      <td>91.632500</td>\n",
       "      <td>73.811501</td>\n",
       "      <td>201.910004</td>\n",
       "    </tr>\n",
       "    <tr>\n",
       "      <th>75%</th>\n",
       "      <td>142.864998</td>\n",
       "      <td>113.317753</td>\n",
       "      <td>255.245003</td>\n",
       "    </tr>\n",
       "    <tr>\n",
       "      <th>max</th>\n",
       "      <td>182.009995</td>\n",
       "      <td>150.709000</td>\n",
       "      <td>343.109985</td>\n",
       "    </tr>\n",
       "  </tbody>\n",
       "</table>\n",
       "</div>"
      ],
      "text/plain": [
       "Ticker         AAPL         GOOG         MSFT\n",
       "count   1259.000000  1259.000000  1259.000000\n",
       "mean      98.092897    85.966515   193.873447\n",
       "std       46.309891    31.244992    74.612296\n",
       "min       35.547501    48.811001    85.010002\n",
       "25%       51.022501    58.421999   119.599998\n",
       "50%       91.632500    73.811501   201.910004\n",
       "75%      142.864998   113.317753   255.245003\n",
       "max      182.009995   150.709000   343.109985"
      ]
     },
     "execution_count": 5,
     "metadata": {},
     "output_type": "execute_result"
    }
   ],
   "source": [
    "# summary statistics for closing prices df\n",
    "closing_prices.describe()"
   ]
  },
  {
   "cell_type": "markdown",
   "id": "c9b6df47",
   "metadata": {},
   "source": [
    "- MSFT higher closing average\n",
    "- Median values close to the mean suggesting relatively symmetric relationship\n",
    "- MSFT has the highest variability for sd indicating greater volatility. Could impact stability of predictions. High volatility suggests more advanced model like LSTM"
   ]
  },
  {
   "cell_type": "code",
   "execution_count": 6,
   "id": "a675d7fb",
   "metadata": {},
   "outputs": [
    {
     "data": {
      "image/png": "[encoded data removed]",
      "text/plain": [
       "<Figure size 800x600 with 2 Axes>"
      ]
     },
     "metadata": {},
     "output_type": "display_data"
    }
   ],
   "source": [
    "#create correlation matrix\n",
    "correlation_matrix = data[['Adj Close', 'Volume']].corr()\n",
    "\n",
    "plt.figure(figsize = (8, 6))\n",
    "sns.heatmap(correlation_matrix, annot = True, cmap = 'coolwarm', fmt = '.2f')\n",
    "plt.title('Correlation Matrix for Closing Prices and Volume')\n",
    "plt.show()"
   ]
  },
  {
   "cell_type": "markdown",
   "id": "7a337629",
   "metadata": {},
   "source": [
    "- All stocks prices have a strong positive correlation indicating closing prices move together\n",
    "- Price vs Volume suggests higher trading volume may coincide with price increases but not strong relationship\n",
    "- Volume Correlations indicate trading activity reflects broader market activity or investor interest"
   ]
  },
  {
   "cell_type": "markdown",
   "id": "94e02e3b",
   "metadata": {},
   "source": [
    "- Since stock prices are highly correlated focus on one stock for simplicity or can use multivariate time series model"
   ]
  },
  {
   "cell_type": "code",
   "execution_count": 7,
   "id": "bc5e1a92",
   "metadata": {},
   "outputs": [
    {
     "data": {
      "text/plain": [
       "<matplotlib.legend.Legend at 0x1410871d0>"
      ]
     },
     "execution_count": 7,
     "metadata": {},
     "output_type": "execute_result"
    },
    {
     "data": {
      "image/png": "[encoded data removed]",
      "text/plain": [
       "<Figure size 640x480 with 1 Axes>"
      ]
     },
     "metadata": {},
     "output_type": "display_data"
    }
   ],
   "source": [
    "closing_prices.plot(label = \"Close Prices\")\n",
    "plt.legend()"
   ]
  },
  {
   "cell_type": "code",
   "execution_count": 8,
   "id": "804f34c5",
   "metadata": {
    "scrolled": true
   },
   "outputs": [
    {
     "name": "stdout",
     "output_type": "stream",
     "text": [
      "AAPL ADF Statistic: -1.073951429942901, p-value: 0.7253472185693876\n",
      "MSFT ADF Statistic: -1.3093219635176883, p-value: 0.6248967859913954\n",
      "GOOG ADF Statistic: -1.2108345267877036, p-value: 0.6689176927500176\n"
     ]
    }
   ],
   "source": [
    "# check for stationary data for each ticker for ARIMA model \n",
    "for ticker in tickers:\n",
    "    result = adfuller(closing_prices[ticker])\n",
    "    print(f\"{ticker} ADF Statistic: {result[0]}, p-value: {result[1]}\")"
   ]
  },
  {
   "cell_type": "markdown",
   "id": "d0c1bec5",
   "metadata": {},
   "source": [
    "- All have pvalue higher than 0.05 indicates we fail to reject null hypothesis that data is stationary\n",
    "- For ARIMA model will need to apply differencing on train and test set"
   ]
  },
  {
   "cell_type": "code",
   "execution_count": 9,
   "id": "da28d5dc",
   "metadata": {
    "scrolled": true
   },
   "outputs": [
    {
     "data": {
      "text/plain": [
       "<Axes: ylabel='Density'>"
      ]
     },
     "execution_count": 9,
     "metadata": {},
     "output_type": "execute_result"
    },
    {
     "data": {
      "image/png": "[encoded data removed]",
      "text/plain": [
       "<Figure size 640x480 with 1 Axes>"
      ]
     },
     "metadata": {},
     "output_type": "display_data"
    }
   ],
   "source": [
    "#Distribution of the dataset\n",
    "closing_prices.plot(kind='kde')"
   ]
  },
  {
   "cell_type": "markdown",
   "id": "a029ee9a",
   "metadata": {},
   "source": [
    "- Wider distribution suggests higher volatility, and more concentrated peak suggests stock stays around the value for longer periods\n",
    "- AAPL two high peaks with broader dist than GOOG, GOOG less violatile, while MSFT has more continous growth with broader distribution\n",
    "- Check rolling statistics to verify"
   ]
  },
  {
   "cell_type": "markdown",
   "id": "46d02ef4",
   "metadata": {},
   "source": [
    "## Rolling Features\n",
    "- Feature discovery \n",
    "- Understand moving average vs. overall mean"
   ]
  },
  {
   "cell_type": "code",
   "execution_count": 10,
   "id": "faac56f4",
   "metadata": {},
   "outputs": [],
   "source": [
    "# Check Rolling features, window average 10 (can change) for short term trends and variability\n",
    "roll_close = closing_prices.copy()\n",
    "for ticker in tickers:\n",
    "    roll_close[f'{ticker}_MA10'] = closing_prices[ticker].rolling(window=10).mean()\n",
    "    roll_close[f'{ticker}_Volatility'] = closing_prices[ticker].pct_change().rolling(window=10).std()"
   ]
  },
  {
   "cell_type": "code",
   "execution_count": 11,
   "id": "b28cfc78",
   "metadata": {
    "scrolled": false
   },
   "outputs": [
    {
     "data": {
      "text/html": [
       "<div>\n",
       "<style scoped>\n",
       "    .dataframe tbody tr th:only-of-type {\n",
       "        vertical-align: middle;\n",
       "    }\n",
       "\n",
       "    .dataframe tbody tr th {\n",
       "        vertical-align: top;\n",
       "    }\n",
       "\n",
       "    .dataframe thead th {\n",
       "        text-align: right;\n",
       "    }\n",
       "</style>\n",
       "<table border=\"1\" class=\"dataframe\">\n",
       "  <thead>\n",
       "    <tr style=\"text-align: right;\">\n",
       "      <th>Ticker</th>\n",
       "      <th>AAPL</th>\n",
       "      <th>GOOG</th>\n",
       "      <th>MSFT</th>\n",
       "      <th>AAPL_MA10</th>\n",
       "      <th>AAPL_Volatility</th>\n",
       "      <th>MSFT_MA10</th>\n",
       "      <th>MSFT_Volatility</th>\n",
       "      <th>GOOG_MA10</th>\n",
       "      <th>GOOG_Volatility</th>\n",
       "    </tr>\n",
       "  </thead>\n",
       "  <tbody>\n",
       "    <tr>\n",
       "      <th>count</th>\n",
       "      <td>1259.000000</td>\n",
       "      <td>1259.000000</td>\n",
       "      <td>1259.000000</td>\n",
       "      <td>1250.000000</td>\n",
       "      <td>1249.000000</td>\n",
       "      <td>1250.000000</td>\n",
       "      <td>1249.000000</td>\n",
       "      <td>1250.000000</td>\n",
       "      <td>1249.000000</td>\n",
       "    </tr>\n",
       "    <tr>\n",
       "      <th>mean</th>\n",
       "      <td>98.092897</td>\n",
       "      <td>85.966515</td>\n",
       "      <td>193.873447</td>\n",
       "      <td>98.174166</td>\n",
       "      <td>0.018807</td>\n",
       "      <td>194.094901</td>\n",
       "      <td>0.017222</td>\n",
       "      <td>86.070481</td>\n",
       "      <td>0.017875</td>\n",
       "    </tr>\n",
       "    <tr>\n",
       "      <th>std</th>\n",
       "      <td>46.309891</td>\n",
       "      <td>31.244992</td>\n",
       "      <td>74.612296</td>\n",
       "      <td>46.241504</td>\n",
       "      <td>0.010105</td>\n",
       "      <td>74.419764</td>\n",
       "      <td>0.010240</td>\n",
       "      <td>31.229426</td>\n",
       "      <td>0.009116</td>\n",
       "    </tr>\n",
       "    <tr>\n",
       "      <th>min</th>\n",
       "      <td>35.547501</td>\n",
       "      <td>48.811001</td>\n",
       "      <td>85.010002</td>\n",
       "      <td>37.663500</td>\n",
       "      <td>0.004489</td>\n",
       "      <td>87.795000</td>\n",
       "      <td>0.004049</td>\n",
       "      <td>50.842051</td>\n",
       "      <td>0.003432</td>\n",
       "    </tr>\n",
       "    <tr>\n",
       "      <th>25%</th>\n",
       "      <td>51.022501</td>\n",
       "      <td>58.421999</td>\n",
       "      <td>119.599998</td>\n",
       "      <td>50.979750</td>\n",
       "      <td>0.011835</td>\n",
       "      <td>119.861750</td>\n",
       "      <td>0.010633</td>\n",
       "      <td>58.617338</td>\n",
       "      <td>0.011388</td>\n",
       "    </tr>\n",
       "    <tr>\n",
       "      <th>50%</th>\n",
       "      <td>91.632500</td>\n",
       "      <td>73.811501</td>\n",
       "      <td>201.910004</td>\n",
       "      <td>92.340249</td>\n",
       "      <td>0.016600</td>\n",
       "      <td>204.139999</td>\n",
       "      <td>0.015180</td>\n",
       "      <td>73.562724</td>\n",
       "      <td>0.016111</td>\n",
       "    </tr>\n",
       "    <tr>\n",
       "      <th>75%</th>\n",
       "      <td>142.864998</td>\n",
       "      <td>113.317753</td>\n",
       "      <td>255.245003</td>\n",
       "      <td>143.270752</td>\n",
       "      <td>0.023206</td>\n",
       "      <td>257.004999</td>\n",
       "      <td>0.021099</td>\n",
       "      <td>113.487876</td>\n",
       "      <td>0.022800</td>\n",
       "    </tr>\n",
       "    <tr>\n",
       "      <th>max</th>\n",
       "      <td>182.009995</td>\n",
       "      <td>150.709000</td>\n",
       "      <td>343.109985</td>\n",
       "      <td>178.331999</td>\n",
       "      <td>0.080056</td>\n",
       "      <td>338.364996</td>\n",
       "      <td>0.089051</td>\n",
       "      <td>148.980701</td>\n",
       "      <td>0.066485</td>\n",
       "    </tr>\n",
       "  </tbody>\n",
       "</table>\n",
       "</div>"
      ],
      "text/plain": [
       "Ticker         AAPL         GOOG         MSFT    AAPL_MA10  AAPL_Volatility  \\\n",
       "count   1259.000000  1259.000000  1259.000000  1250.000000      1249.000000   \n",
       "mean      98.092897    85.966515   193.873447    98.174166         0.018807   \n",
       "std       46.309891    31.244992    74.612296    46.241504         0.010105   \n",
       "min       35.547501    48.811001    85.010002    37.663500         0.004489   \n",
       "25%       51.022501    58.421999   119.599998    50.979750         0.011835   \n",
       "50%       91.632500    73.811501   201.910004    92.340249         0.016600   \n",
       "75%      142.864998   113.317753   255.245003   143.270752         0.023206   \n",
       "max      182.009995   150.709000   343.109985   178.331999         0.080056   \n",
       "\n",
       "Ticker    MSFT_MA10  MSFT_Volatility    GOOG_MA10  GOOG_Volatility  \n",
       "count   1250.000000      1249.000000  1250.000000      1249.000000  \n",
       "mean     194.094901         0.017222    86.070481         0.017875  \n",
       "std       74.419764         0.010240    31.229426         0.009116  \n",
       "min       87.795000         0.004049    50.842051         0.003432  \n",
       "25%      119.861750         0.010633    58.617338         0.011388  \n",
       "50%      204.139999         0.015180    73.562724         0.016111  \n",
       "75%      257.004999         0.021099   113.487876         0.022800  \n",
       "max      338.364996         0.089051   148.980701         0.066485  "
      ]
     },
     "execution_count": 11,
     "metadata": {},
     "output_type": "execute_result"
    }
   ],
   "source": [
    "roll_close.describe()"
   ]
  },
  {
   "cell_type": "markdown",
   "id": "a59df013",
   "metadata": {},
   "source": [
    "- Moving Average smoothes out short term fluctuations and captures trends. Can be included as a feature in predicitive models\n",
    "- Rolling colatility captures risk and variability, can improve model accuracy \n",
    "- Apples higher volatility (1.88%) can be stock to focus on to capture price dyanmics"
   ]
  },
  {
   "cell_type": "markdown",
   "id": "956e22e6",
   "metadata": {},
   "source": [
    "### Explore AAPL Data"
   ]
  },
  {
   "cell_type": "code",
   "execution_count": 12,
   "id": "543fd7cd",
   "metadata": {
    "scrolled": true
   },
   "outputs": [
    {
     "data": {
      "text/html": [
       "<div>\n",
       "<style scoped>\n",
       "    .dataframe tbody tr th:only-of-type {\n",
       "        vertical-align: middle;\n",
       "    }\n",
       "\n",
       "    .dataframe tbody tr th {\n",
       "        vertical-align: top;\n",
       "    }\n",
       "\n",
       "    .dataframe thead th {\n",
       "        text-align: right;\n",
       "    }\n",
       "</style>\n",
       "<table border=\"1\" class=\"dataframe\">\n",
       "  <thead>\n",
       "    <tr style=\"text-align: right;\">\n",
       "      <th>Ticker</th>\n",
       "      <th>AAPL</th>\n",
       "      <th>AAPL_MA10</th>\n",
       "      <th>AAPL_Volatility</th>\n",
       "      <th>AAPL_Adj_Close_lag1</th>\n",
       "      <th>AAPL_Adj_Close_lag2</th>\n",
       "      <th>AAPL_pct_change</th>\n",
       "      <th>day_of_week</th>\n",
       "      <th>month</th>\n",
       "    </tr>\n",
       "  </thead>\n",
       "  <tbody>\n",
       "    <tr>\n",
       "      <th>count</th>\n",
       "      <td>1249.000000</td>\n",
       "      <td>1249.000000</td>\n",
       "      <td>1249.000000</td>\n",
       "      <td>1249.000000</td>\n",
       "      <td>1249.000000</td>\n",
       "      <td>1249.000000</td>\n",
       "      <td>1249.000000</td>\n",
       "      <td>1249.000000</td>\n",
       "    </tr>\n",
       "    <tr>\n",
       "      <th>mean</th>\n",
       "      <td>98.529179</td>\n",
       "      <td>98.217860</td>\n",
       "      <td>0.018807</td>\n",
       "      <td>98.460418</td>\n",
       "      <td>98.392094</td>\n",
       "      <td>0.001091</td>\n",
       "      <td>2.021617</td>\n",
       "      <td>6.589271</td>\n",
       "    </tr>\n",
       "    <tr>\n",
       "      <th>std</th>\n",
       "      <td>46.236413</td>\n",
       "      <td>46.234206</td>\n",
       "      <td>0.010105</td>\n",
       "      <td>46.253535</td>\n",
       "      <td>46.270511</td>\n",
       "      <td>0.021170</td>\n",
       "      <td>1.400668</td>\n",
       "      <td>3.406289</td>\n",
       "    </tr>\n",
       "    <tr>\n",
       "      <th>min</th>\n",
       "      <td>35.547501</td>\n",
       "      <td>37.663500</td>\n",
       "      <td>0.004489</td>\n",
       "      <td>35.547501</td>\n",
       "      <td>35.547501</td>\n",
       "      <td>-0.128647</td>\n",
       "      <td>0.000000</td>\n",
       "      <td>1.000000</td>\n",
       "    </tr>\n",
       "    <tr>\n",
       "      <th>25%</th>\n",
       "      <td>51.152500</td>\n",
       "      <td>51.006750</td>\n",
       "      <td>0.011835</td>\n",
       "      <td>51.132500</td>\n",
       "      <td>51.125000</td>\n",
       "      <td>-0.009200</td>\n",
       "      <td>1.000000</td>\n",
       "      <td>4.000000</td>\n",
       "    </tr>\n",
       "    <tr>\n",
       "      <th>50%</th>\n",
       "      <td>93.462502</td>\n",
       "      <td>92.575749</td>\n",
       "      <td>0.016600</td>\n",
       "      <td>93.252502</td>\n",
       "      <td>93.172501</td>\n",
       "      <td>0.001001</td>\n",
       "      <td>2.000000</td>\n",
       "      <td>7.000000</td>\n",
       "    </tr>\n",
       "    <tr>\n",
       "      <th>75%</th>\n",
       "      <td>142.919998</td>\n",
       "      <td>143.277002</td>\n",
       "      <td>0.023206</td>\n",
       "      <td>142.919998</td>\n",
       "      <td>142.919998</td>\n",
       "      <td>0.012406</td>\n",
       "      <td>3.000000</td>\n",
       "      <td>10.000000</td>\n",
       "    </tr>\n",
       "    <tr>\n",
       "      <th>max</th>\n",
       "      <td>182.009995</td>\n",
       "      <td>178.331999</td>\n",
       "      <td>0.080056</td>\n",
       "      <td>182.009995</td>\n",
       "      <td>182.009995</td>\n",
       "      <td>0.119808</td>\n",
       "      <td>4.000000</td>\n",
       "      <td>12.000000</td>\n",
       "    </tr>\n",
       "  </tbody>\n",
       "</table>\n",
       "</div>"
      ],
      "text/plain": [
       "Ticker         AAPL    AAPL_MA10  AAPL_Volatility  AAPL_Adj_Close_lag1  \\\n",
       "count   1249.000000  1249.000000      1249.000000          1249.000000   \n",
       "mean      98.529179    98.217860         0.018807            98.460418   \n",
       "std       46.236413    46.234206         0.010105            46.253535   \n",
       "min       35.547501    37.663500         0.004489            35.547501   \n",
       "25%       51.152500    51.006750         0.011835            51.132500   \n",
       "50%       93.462502    92.575749         0.016600            93.252502   \n",
       "75%      142.919998   143.277002         0.023206           142.919998   \n",
       "max      182.009995   178.331999         0.080056           182.009995   \n",
       "\n",
       "Ticker  AAPL_Adj_Close_lag2  AAPL_pct_change  day_of_week        month  \n",
       "count           1249.000000      1249.000000  1249.000000  1249.000000  \n",
       "mean              98.392094         0.001091     2.021617     6.589271  \n",
       "std               46.270511         0.021170     1.400668     3.406289  \n",
       "min               35.547501        -0.128647     0.000000     1.000000  \n",
       "25%               51.125000        -0.009200     1.000000     4.000000  \n",
       "50%               93.172501         0.001001     2.000000     7.000000  \n",
       "75%              142.919998         0.012406     3.000000    10.000000  \n",
       "max              182.009995         0.119808     4.000000    12.000000  "
      ]
     },
     "execution_count": 12,
     "metadata": {},
     "output_type": "execute_result"
    }
   ],
   "source": [
    "# create AAPL dataframe for feature prep and model testing\n",
    "\n",
    "aapl_data = closing_prices[['AAPL']].copy()\n",
    "\n",
    "# Rolling features\n",
    "aapl_data['AAPL_MA10'] = aapl_data['AAPL'].rolling(window = 10).mean()\n",
    "aapl_data['AAPL_Volatility'] = aapl_data['AAPL'].pct_change().rolling(window = 10).std()\n",
    "\n",
    "# Lagged features\n",
    "aapl_data['AAPL_Adj_Close_lag1'] = aapl_data['AAPL'].shift(1)\n",
    "aapl_data['AAPL_Adj_Close_lag2'] = aapl_data['AAPL'].shift(2)\n",
    "\n",
    "# Percent change\n",
    "aapl_data['AAPL_pct_change'] = aapl_data['AAPL'].pct_change()\n",
    "\n",
    "# Time-based features\n",
    "aapl_data['day_of_week'] = aapl_data.index.dayofweek\n",
    "aapl_data['month'] = aapl_data.index.month\n",
    "\n",
    "# Drop rows with NaN values (caused by rolling and lagging)\n",
    "aapl_data = aapl_data.dropna()\n",
    "\n",
    "aapl_data.describe()"
   ]
  },
  {
   "cell_type": "markdown",
   "id": "788f5674",
   "metadata": {},
   "source": [
    "### Scale Data for Model Training"
   ]
  },
  {
   "cell_type": "code",
   "execution_count": 13,
   "id": "dfb6cc99",
   "metadata": {},
   "outputs": [
    {
     "data": {
      "text/html": [
       "<div>\n",
       "<style scoped>\n",
       "    .dataframe tbody tr th:only-of-type {\n",
       "        vertical-align: middle;\n",
       "    }\n",
       "\n",
       "    .dataframe tbody tr th {\n",
       "        vertical-align: top;\n",
       "    }\n",
       "\n",
       "    .dataframe thead th {\n",
       "        text-align: right;\n",
       "    }\n",
       "</style>\n",
       "<table border=\"1\" class=\"dataframe\">\n",
       "  <thead>\n",
       "    <tr style=\"text-align: right;\">\n",
       "      <th></th>\n",
       "      <th>AAPL</th>\n",
       "      <th>AAPL_MA10</th>\n",
       "      <th>AAPL_Volatility</th>\n",
       "      <th>AAPL_Adj_Close_lag1</th>\n",
       "      <th>AAPL_Adj_Close_lag2</th>\n",
       "      <th>AAPL_pct_change</th>\n",
       "      <th>day_of_week</th>\n",
       "      <th>month</th>\n",
       "      <th>AAPL_scaled</th>\n",
       "      <th>AAPL_MA10_scaled</th>\n",
       "      <th>AAPL_Volatility_scaled</th>\n",
       "      <th>AAPL_Adj_Close_lag1_scaled</th>\n",
       "      <th>AAPL_Adj_Close_lag2_scaled</th>\n",
       "      <th>AAPL_pct_change_scaled</th>\n",
       "    </tr>\n",
       "    <tr>\n",
       "      <th>Date</th>\n",
       "      <th></th>\n",
       "      <th></th>\n",
       "      <th></th>\n",
       "      <th></th>\n",
       "      <th></th>\n",
       "      <th></th>\n",
       "      <th></th>\n",
       "      <th></th>\n",
       "      <th></th>\n",
       "      <th></th>\n",
       "      <th></th>\n",
       "      <th></th>\n",
       "      <th></th>\n",
       "      <th></th>\n",
       "    </tr>\n",
       "  </thead>\n",
       "  <tbody>\n",
       "    <tr>\n",
       "      <th>2018-01-17</th>\n",
       "      <td>44.775002</td>\n",
       "      <td>43.77225</td>\n",
       "      <td>0.007060</td>\n",
       "      <td>44.047501</td>\n",
       "      <td>44.272499</td>\n",
       "      <td>0.016516</td>\n",
       "      <td>2</td>\n",
       "      <td>1</td>\n",
       "      <td>-1.163060</td>\n",
       "      <td>-1.178076</td>\n",
       "      <td>-1.163022</td>\n",
       "      <td>-1.176877</td>\n",
       "      <td>-1.170103</td>\n",
       "      <td>0.728942</td>\n",
       "    </tr>\n",
       "    <tr>\n",
       "      <th>2018-01-18</th>\n",
       "      <td>44.814999</td>\n",
       "      <td>43.94800</td>\n",
       "      <td>0.006999</td>\n",
       "      <td>44.775002</td>\n",
       "      <td>44.047501</td>\n",
       "      <td>0.000893</td>\n",
       "      <td>3</td>\n",
       "      <td>1</td>\n",
       "      <td>-1.162194</td>\n",
       "      <td>-1.174273</td>\n",
       "      <td>-1.169065</td>\n",
       "      <td>-1.161142</td>\n",
       "      <td>-1.174968</td>\n",
       "      <td>-0.009321</td>\n",
       "    </tr>\n",
       "    <tr>\n",
       "      <th>2018-01-19</th>\n",
       "      <td>44.615002</td>\n",
       "      <td>44.08375</td>\n",
       "      <td>0.007486</td>\n",
       "      <td>44.814999</td>\n",
       "      <td>44.775002</td>\n",
       "      <td>-0.004463</td>\n",
       "      <td>4</td>\n",
       "      <td>1</td>\n",
       "      <td>-1.166522</td>\n",
       "      <td>-1.171336</td>\n",
       "      <td>-1.120869</td>\n",
       "      <td>-1.160277</td>\n",
       "      <td>-1.159239</td>\n",
       "      <td>-0.262418</td>\n",
       "    </tr>\n",
       "    <tr>\n",
       "      <th>2018-01-22</th>\n",
       "      <td>44.250000</td>\n",
       "      <td>44.13375</td>\n",
       "      <td>0.007641</td>\n",
       "      <td>44.615002</td>\n",
       "      <td>44.814999</td>\n",
       "      <td>-0.008181</td>\n",
       "      <td>0</td>\n",
       "      <td>1</td>\n",
       "      <td>-1.174419</td>\n",
       "      <td>-1.170254</td>\n",
       "      <td>-1.105519</td>\n",
       "      <td>-1.164603</td>\n",
       "      <td>-1.158374</td>\n",
       "      <td>-0.438132</td>\n",
       "    </tr>\n",
       "    <tr>\n",
       "      <th>2018-01-23</th>\n",
       "      <td>44.259998</td>\n",
       "      <td>44.20100</td>\n",
       "      <td>0.007461</td>\n",
       "      <td>44.250000</td>\n",
       "      <td>44.615002</td>\n",
       "      <td>0.000226</td>\n",
       "      <td>1</td>\n",
       "      <td>1</td>\n",
       "      <td>-1.174203</td>\n",
       "      <td>-1.168799</td>\n",
       "      <td>-1.123338</td>\n",
       "      <td>-1.172497</td>\n",
       "      <td>-1.162698</td>\n",
       "      <td>-0.040856</td>\n",
       "    </tr>\n",
       "  </tbody>\n",
       "</table>\n",
       "</div>"
      ],
      "text/plain": [
       "                 AAPL  AAPL_MA10  AAPL_Volatility  AAPL_Adj_Close_lag1  \\\n",
       "Date                                                                     \n",
       "2018-01-17  44.775002   43.77225         0.007060            44.047501   \n",
       "2018-01-18  44.814999   43.94800         0.006999            44.775002   \n",
       "2018-01-19  44.615002   44.08375         0.007486            44.814999   \n",
       "2018-01-22  44.250000   44.13375         0.007641            44.615002   \n",
       "2018-01-23  44.259998   44.20100         0.007461            44.250000   \n",
       "\n",
       "            AAPL_Adj_Close_lag2  AAPL_pct_change  day_of_week  month  \\\n",
       "Date                                                                   \n",
       "2018-01-17            44.272499         0.016516            2      1   \n",
       "2018-01-18            44.047501         0.000893            3      1   \n",
       "2018-01-19            44.775002        -0.004463            4      1   \n",
       "2018-01-22            44.814999        -0.008181            0      1   \n",
       "2018-01-23            44.615002         0.000226            1      1   \n",
       "\n",
       "            AAPL_scaled  AAPL_MA10_scaled  AAPL_Volatility_scaled  \\\n",
       "Date                                                                \n",
       "2018-01-17    -1.163060         -1.178076               -1.163022   \n",
       "2018-01-18    -1.162194         -1.174273               -1.169065   \n",
       "2018-01-19    -1.166522         -1.171336               -1.120869   \n",
       "2018-01-22    -1.174419         -1.170254               -1.105519   \n",
       "2018-01-23    -1.174203         -1.168799               -1.123338   \n",
       "\n",
       "            AAPL_Adj_Close_lag1_scaled  AAPL_Adj_Close_lag2_scaled  \\\n",
       "Date                                                                 \n",
       "2018-01-17                   -1.176877                   -1.170103   \n",
       "2018-01-18                   -1.161142                   -1.174968   \n",
       "2018-01-19                   -1.160277                   -1.159239   \n",
       "2018-01-22                   -1.164603                   -1.158374   \n",
       "2018-01-23                   -1.172497                   -1.162698   \n",
       "\n",
       "            AAPL_pct_change_scaled  \n",
       "Date                                \n",
       "2018-01-17                0.728942  \n",
       "2018-01-18               -0.009321  \n",
       "2018-01-19               -0.262418  \n",
       "2018-01-22               -0.438132  \n",
       "2018-01-23               -0.040856  "
      ]
     },
     "execution_count": 13,
     "metadata": {},
     "output_type": "execute_result"
    }
   ],
   "source": [
    "# feature scaling use z-score since features may have different ranges\n",
    "features_to_scale = ['AAPL', 'AAPL_MA10', 'AAPL_Volatility', 'AAPL_Adj_Close_lag1', 'AAPL_Adj_Close_lag2', 'AAPL_pct_change']\n",
    "\n",
    "# intialize scaler\n",
    "scaler = StandardScaler()\n",
    "\n",
    "# fit and transform data\n",
    "scaled_features = scaler.fit_transform(aapl_data[features_to_scale])\n",
    "\n",
    "# create scaled df\n",
    "scaled_columns = [f\"{col}_scaled\" for col in features_to_scale]\n",
    "scaled_data = pd.DataFrame(scaled_features, columns = scaled_columns, index = aapl_data.index)\n",
    "\n",
    "# concat with original data\n",
    "aapl_data_scaled = pd.concat([aapl_data, scaled_data], axis = 1)\n",
    "\n",
    "aapl_data_scaled.head()"
   ]
  },
  {
   "cell_type": "markdown",
   "id": "a8418118",
   "metadata": {},
   "source": [
    "# Model Selection:\n",
    "- ARIMA, LSTM, Prophet as they cover linear, non-linear, and interpretable forecasting."
   ]
  },
  {
   "cell_type": "markdown",
   "id": "15c656af",
   "metadata": {},
   "source": [
    "### ARIMA model\n",
    "- Check for stationary data\n",
    "- Use AutoARIMA for p,q,d values"
   ]
  },
  {
   "cell_type": "code",
   "execution_count": 14,
   "id": "7f9e905f",
   "metadata": {},
   "outputs": [
    {
     "name": "stdout",
     "output_type": "stream",
     "text": [
      "ADF Statistic: -1.1356566345109598\n",
      "p-value: 0.7006450841609072\n",
      "Critical Value 1%: -3.4356474307506084\n",
      "Critical Value 5%: -2.8638793281844253\n",
      "Critical Value 10%: -2.5680154897465575\n",
      "The time series is likely non-stationary (p-value > 0.05).\n"
     ]
    }
   ],
   "source": [
    "# check stationarity for aapl_data\n",
    "result = adfuller(aapl_data['AAPL'])\n",
    "\n",
    "# Print results\n",
    "print(\"ADF Statistic:\", result[0])\n",
    "print(\"p-value:\", result[1])\n",
    "for key, value in result[4].items():\n",
    "    print(f\"Critical Value {key}: {value}\")\n",
    "\n",
    "# Interpretation\n",
    "if result[1] > 0.05:\n",
    "    print(\"The time series is likely non-stationary (p-value > 0.05).\")\n",
    "else:\n",
    "    print(\"The time series is likely stationary (p-value <= 0.05).\")"
   ]
  },
  {
   "cell_type": "code",
   "execution_count": 15,
   "id": "adee821d",
   "metadata": {
    "scrolled": true
   },
   "outputs": [
    {
     "name": "stdout",
     "output_type": "stream",
     "text": [
      "Train: 999 rows\n",
      "Testing set: 250 rows\n"
     ]
    }
   ],
   "source": [
    "# Split Data into training and test sets\n",
    "train_size = int(len(aapl_data) * 0.8)\n",
    "train = aapl_data[:train_size]\n",
    "test = aapl_data[train_size:]\n",
    "\n",
    "# verify split\n",
    "print(f\"Train: {len(train)} rows\")\n",
    "print(f\"Testing set: {len(test)} rows\")"
   ]
  },
  {
   "cell_type": "code",
   "execution_count": 16,
   "id": "6b9a92d0",
   "metadata": {
    "scrolled": true
   },
   "outputs": [
    {
     "data": {
      "text/html": [
       "<div>\n",
       "<style scoped>\n",
       "    .dataframe tbody tr th:only-of-type {\n",
       "        vertical-align: middle;\n",
       "    }\n",
       "\n",
       "    .dataframe tbody tr th {\n",
       "        vertical-align: top;\n",
       "    }\n",
       "\n",
       "    .dataframe thead th {\n",
       "        text-align: right;\n",
       "    }\n",
       "</style>\n",
       "<table border=\"1\" class=\"dataframe\">\n",
       "  <thead>\n",
       "    <tr style=\"text-align: right;\">\n",
       "      <th>Ticker</th>\n",
       "      <th>AAPL</th>\n",
       "      <th>AAPL_MA10</th>\n",
       "      <th>AAPL_Volatility</th>\n",
       "      <th>AAPL_Adj_Close_lag1</th>\n",
       "      <th>AAPL_Adj_Close_lag2</th>\n",
       "      <th>AAPL_pct_change</th>\n",
       "      <th>day_of_week</th>\n",
       "      <th>month</th>\n",
       "    </tr>\n",
       "    <tr>\n",
       "      <th>Date</th>\n",
       "      <th></th>\n",
       "      <th></th>\n",
       "      <th></th>\n",
       "      <th></th>\n",
       "      <th></th>\n",
       "      <th></th>\n",
       "      <th></th>\n",
       "      <th></th>\n",
       "    </tr>\n",
       "  </thead>\n",
       "  <tbody>\n",
       "    <tr>\n",
       "      <th>2018-01-17</th>\n",
       "      <td>44.775002</td>\n",
       "      <td>43.77225</td>\n",
       "      <td>0.007060</td>\n",
       "      <td>44.047501</td>\n",
       "      <td>44.272499</td>\n",
       "      <td>0.016516</td>\n",
       "      <td>2</td>\n",
       "      <td>1</td>\n",
       "    </tr>\n",
       "    <tr>\n",
       "      <th>2018-01-18</th>\n",
       "      <td>44.814999</td>\n",
       "      <td>43.94800</td>\n",
       "      <td>0.006999</td>\n",
       "      <td>44.775002</td>\n",
       "      <td>44.047501</td>\n",
       "      <td>0.000893</td>\n",
       "      <td>3</td>\n",
       "      <td>1</td>\n",
       "    </tr>\n",
       "    <tr>\n",
       "      <th>2018-01-19</th>\n",
       "      <td>44.615002</td>\n",
       "      <td>44.08375</td>\n",
       "      <td>0.007486</td>\n",
       "      <td>44.814999</td>\n",
       "      <td>44.775002</td>\n",
       "      <td>-0.004463</td>\n",
       "      <td>4</td>\n",
       "      <td>1</td>\n",
       "    </tr>\n",
       "    <tr>\n",
       "      <th>2018-01-22</th>\n",
       "      <td>44.250000</td>\n",
       "      <td>44.13375</td>\n",
       "      <td>0.007641</td>\n",
       "      <td>44.615002</td>\n",
       "      <td>44.814999</td>\n",
       "      <td>-0.008181</td>\n",
       "      <td>0</td>\n",
       "      <td>1</td>\n",
       "    </tr>\n",
       "    <tr>\n",
       "      <th>2018-01-23</th>\n",
       "      <td>44.259998</td>\n",
       "      <td>44.20100</td>\n",
       "      <td>0.007461</td>\n",
       "      <td>44.250000</td>\n",
       "      <td>44.615002</td>\n",
       "      <td>0.000226</td>\n",
       "      <td>1</td>\n",
       "      <td>1</td>\n",
       "    </tr>\n",
       "  </tbody>\n",
       "</table>\n",
       "</div>"
      ],
      "text/plain": [
       "Ticker           AAPL  AAPL_MA10  AAPL_Volatility  AAPL_Adj_Close_lag1  \\\n",
       "Date                                                                     \n",
       "2018-01-17  44.775002   43.77225         0.007060            44.047501   \n",
       "2018-01-18  44.814999   43.94800         0.006999            44.775002   \n",
       "2018-01-19  44.615002   44.08375         0.007486            44.814999   \n",
       "2018-01-22  44.250000   44.13375         0.007641            44.615002   \n",
       "2018-01-23  44.259998   44.20100         0.007461            44.250000   \n",
       "\n",
       "Ticker      AAPL_Adj_Close_lag2  AAPL_pct_change  day_of_week  month  \n",
       "Date                                                                  \n",
       "2018-01-17            44.272499         0.016516            2      1  \n",
       "2018-01-18            44.047501         0.000893            3      1  \n",
       "2018-01-19            44.775002        -0.004463            4      1  \n",
       "2018-01-22            44.814999        -0.008181            0      1  \n",
       "2018-01-23            44.615002         0.000226            1      1  "
      ]
     },
     "execution_count": 16,
     "metadata": {},
     "output_type": "execute_result"
    }
   ],
   "source": [
    "train.head()"
   ]
  },
  {
   "cell_type": "markdown",
   "id": "95a67687",
   "metadata": {},
   "source": [
    "### Naive Forecasting for Baseline"
   ]
  },
  {
   "cell_type": "code",
   "execution_count": 17,
   "id": "300e911b",
   "metadata": {},
   "outputs": [
    {
     "name": "stdout",
     "output_type": "stream",
     "text": [
      "Naive Forecast RMSE: 30.197553581847334\n"
     ]
    }
   ],
   "source": [
    "# Create naive forecast for the test period\n",
    "last_observed_value = aapl_data['AAPL'].iloc[train_size - 1]\n",
    "naive_forecasts = pd.Series(last_observed_value, index=test.index)\n",
    "\n",
    "# Evaluate using RMSE\n",
    "rmse_naive = mean_squared_error(test['AAPL'], naive_forecasts, squared=False)\n",
    "print(f\"Naive Forecast RMSE: {rmse_naive}\")"
   ]
  },
  {
   "cell_type": "markdown",
   "id": "d02318a4",
   "metadata": {},
   "source": [
    "- Make Data Stionary for ARIMA"
   ]
  },
  {
   "cell_type": "code",
   "execution_count": 18,
   "id": "909261cb",
   "metadata": {
    "scrolled": true
   },
   "outputs": [
    {
     "name": "stdout",
     "output_type": "stream",
     "text": [
      "ADF Statistic (Differenced): -10.414688960192686\n",
      "p-value (Differenced): 1.766919677920362e-18\n"
     ]
    }
   ],
   "source": [
    "# make data stationary for arima model\n",
    "aapl_diff = aapl_data['AAPL'].diff().dropna().copy()\n",
    "\n",
    "# Re-check stationarity\n",
    "result_diff = adfuller(aapl_diff)\n",
    "print(\"ADF Statistic (Differenced):\", result_diff[0])\n",
    "print(\"p-value (Differenced):\", result_diff[1])"
   ]
  },
  {
   "cell_type": "code",
   "execution_count": 19,
   "id": "abf3585b",
   "metadata": {},
   "outputs": [
    {
     "name": "stdout",
     "output_type": "stream",
     "text": [
      "Train: 998 rows\n",
      "Testing set: 250 rows\n"
     ]
    }
   ],
   "source": [
    "# Split Data into training and test sets for ARIMA\n",
    "train_size = int(len(aapl_diff) * 0.8)\n",
    "train_diff = aapl_diff[:train_size]\n",
    "test_diff = aapl_diff[train_size:]\n",
    "\n",
    "# verify split\n",
    "print(f\"Train: {len(train_diff)} rows\")\n",
    "print(f\"Testing set: {len(test_diff)} rows\")"
   ]
  },
  {
   "cell_type": "markdown",
   "id": "0603b4e5",
   "metadata": {},
   "source": [
    "ARIMA model"
   ]
  },
  {
   "cell_type": "code",
   "execution_count": 20,
   "id": "1a42acbf",
   "metadata": {},
   "outputs": [
    {
     "name": "stdout",
     "output_type": "stream",
     "text": [
      "Performing stepwise search to minimize aic\n",
      " ARIMA(1,0,1)(0,0,0)[0]             : AIC=4030.454, Time=0.12 sec\n",
      " ARIMA(0,0,0)(0,0,0)[0]             : AIC=4035.812, Time=0.02 sec\n",
      " ARIMA(1,0,0)(0,0,0)[0]             : AIC=4029.116, Time=0.05 sec\n",
      " ARIMA(0,0,1)(0,0,0)[0]             : AIC=4029.504, Time=0.05 sec\n",
      " ARIMA(2,0,0)(0,0,0)[0]             : AIC=4030.654, Time=0.06 sec\n",
      " ARIMA(2,0,1)(0,0,0)[0]             : AIC=4032.454, Time=0.15 sec\n",
      " ARIMA(1,0,0)(0,0,0)[0] intercept   : AIC=4024.266, Time=0.06 sec\n",
      " ARIMA(0,0,0)(0,0,0)[0] intercept   : AIC=4032.135, Time=0.03 sec\n",
      " ARIMA(2,0,0)(0,0,0)[0] intercept   : AIC=4026.044, Time=0.08 sec\n",
      " ARIMA(1,0,1)(0,0,0)[0] intercept   : AIC=4025.860, Time=0.11 sec\n",
      " ARIMA(0,0,1)(0,0,0)[0] intercept   : AIC=4024.580, Time=0.09 sec\n",
      " ARIMA(2,0,1)(0,0,0)[0] intercept   : AIC=4027.831, Time=0.34 sec\n",
      "\n",
      "Best model:  ARIMA(1,0,0)(0,0,0)[0] intercept\n",
      "Total fit time: 1.178 seconds\n",
      "Optimal ARIMA order: (1, 0, 0)\n"
     ]
    }
   ],
   "source": [
    "stepwise_fit = auto_arima(train_diff.dropna(),\n",
    "                             start_p = 1, start_q = 1,\n",
    "                             max_p = 5, max_q = 5,\n",
    "                             seasonal = False,\n",
    "                             trace = True)\n",
    "print(f\"Optimal ARIMA order: {stepwise_fit.order}\")"
   ]
  },
  {
   "cell_type": "code",
   "execution_count": 21,
   "id": "76f7eca7",
   "metadata": {},
   "outputs": [
    {
     "name": "stdout",
     "output_type": "stream",
     "text": [
      "\n",
      "Length of actual test data: 250\n",
      "Length of forecast: 250\n",
      "\n",
      "ARIMA RMSE (Original Scale): 44.604112288210274\n"
     ]
    }
   ],
   "source": [
    "# Train ARIMA Model\n",
    "model = ARIMA(train_diff, order=(1, 0, 0))\n",
    "arima_model = model.fit()\n",
    "\n",
    "# Forecast for the length of the test set\n",
    "forecast_diff = arima_model.forecast(steps=len(test_diff))\n",
    "\n",
    "# Get the last training value for reverse differencing\n",
    "last_train_value = aapl_data['AAPL'].iloc[train_size - 1]\n",
    "\n",
    "# Reverse Differencing to Return to Original Scale\n",
    "forecast_arima_original_scale = forecast_diff.cumsum() + last_train_value\n",
    "\n",
    "# Align forecast index with test data\n",
    "forecast_arima_original_scale = pd.Series(forecast_arima_original_scale.values, index=test.index)\n",
    "\n",
    "# Drop NaNs (if any)\n",
    "forecast_arima_original_scale = forecast_arima_original_scale.dropna()\n",
    "\n",
    "# Adjust actual test data for length and ensure it's only the 'AAPL' column\n",
    "actual_test = aapl_data['AAPL'].iloc[train_size:train_size + len(forecast_arima_original_scale)]\n",
    "\n",
    "# Drop NaNs (if any)\n",
    "actual_test = actual_test.dropna()\n",
    "forecast_arima_original_scale = forecast_arima_original_scale.dropna()\n",
    "\n",
    "# Verify lengths\n",
    "print(f\"\\nLength of actual test data: {len(actual_test)}\")\n",
    "print(f\"Length of forecast: {len(forecast_arima_original_scale)}\")\n",
    "\n",
    "# Evaluate RMSE\n",
    "if len(actual_test) == len(forecast_arima_original_scale):\n",
    "    rmse_arima = mean_squared_error(actual_test, forecast_arima_original_scale, squared=False)\n",
    "    print(f\"\\nARIMA RMSE (Original Scale): {rmse_arima}\")\n",
    "else:\n",
    "    print(\"\\nError: Lengths of actual_test and forecast_arima_original_scale do not match.\")"
   ]
  },
  {
   "cell_type": "markdown",
   "id": "724d81fa",
   "metadata": {},
   "source": [
    "### LSTM Model Training"
   ]
  },
  {
   "cell_type": "code",
   "execution_count": 22,
   "id": "0fc24a9e",
   "metadata": {},
   "outputs": [
    {
     "name": "stdout",
     "output_type": "stream",
     "text": [
      "Epoch 1/20\n",
      "\u001b[1m62/62\u001b[0m \u001b[32m━━━━━━━━━━━━━━━━━━━━\u001b[0m\u001b[37m\u001b[0m \u001b[1m3s\u001b[0m 9ms/step - loss: 0.0864\n",
      "Epoch 2/20\n",
      "\u001b[1m62/62\u001b[0m \u001b[32m━━━━━━━━━━━━━━━━━━━━\u001b[0m\u001b[37m\u001b[0m \u001b[1m1s\u001b[0m 9ms/step - loss: 8.1701e-04\n",
      "Epoch 3/20\n",
      "\u001b[1m62/62\u001b[0m \u001b[32m━━━━━━━━━━━━━━━━━━━━\u001b[0m\u001b[37m\u001b[0m \u001b[1m1s\u001b[0m 10ms/step - loss: 6.4410e-04\n",
      "Epoch 4/20\n",
      "\u001b[1m62/62\u001b[0m \u001b[32m━━━━━━━━━━━━━━━━━━━━\u001b[0m\u001b[37m\u001b[0m \u001b[1m1s\u001b[0m 11ms/step - loss: 5.9041e-04\n",
      "Epoch 5/20\n",
      "\u001b[1m62/62\u001b[0m \u001b[32m━━━━━━━━━━━━━━━━━━━━\u001b[0m\u001b[37m\u001b[0m \u001b[1m1s\u001b[0m 11ms/step - loss: 4.5634e-04\n",
      "Epoch 6/20\n",
      "\u001b[1m62/62\u001b[0m \u001b[32m━━━━━━━━━━━━━━━━━━━━\u001b[0m\u001b[37m\u001b[0m \u001b[1m1s\u001b[0m 11ms/step - loss: 5.3912e-04\n",
      "Epoch 7/20\n",
      "\u001b[1m62/62\u001b[0m \u001b[32m━━━━━━━━━━━━━━━━━━━━\u001b[0m\u001b[37m\u001b[0m \u001b[1m1s\u001b[0m 11ms/step - loss: 5.2656e-04\n",
      "Epoch 8/20\n",
      "\u001b[1m62/62\u001b[0m \u001b[32m━━━━━━━━━━━━━━━━━━━━\u001b[0m\u001b[37m\u001b[0m \u001b[1m1s\u001b[0m 11ms/step - loss: 5.0848e-04\n",
      "Epoch 9/20\n",
      "\u001b[1m62/62\u001b[0m \u001b[32m━━━━━━━━━━━━━━━━━━━━\u001b[0m\u001b[37m\u001b[0m \u001b[1m1s\u001b[0m 8ms/step - loss: 4.7680e-04\n",
      "Epoch 10/20\n",
      "\u001b[1m62/62\u001b[0m \u001b[32m━━━━━━━━━━━━━━━━━━━━\u001b[0m\u001b[37m\u001b[0m \u001b[1m1s\u001b[0m 11ms/step - loss: 5.3709e-04\n",
      "Epoch 11/20\n",
      "\u001b[1m62/62\u001b[0m \u001b[32m━━━━━━━━━━━━━━━━━━━━\u001b[0m\u001b[37m\u001b[0m \u001b[1m1s\u001b[0m 11ms/step - loss: 4.2305e-04\n",
      "Epoch 12/20\n",
      "\u001b[1m62/62\u001b[0m \u001b[32m━━━━━━━━━━━━━━━━━━━━\u001b[0m\u001b[37m\u001b[0m \u001b[1m1s\u001b[0m 11ms/step - loss: 4.0283e-04\n",
      "Epoch 13/20\n",
      "\u001b[1m62/62\u001b[0m \u001b[32m━━━━━━━━━━━━━━━━━━━━\u001b[0m\u001b[37m\u001b[0m \u001b[1m1s\u001b[0m 13ms/step - loss: 4.1051e-04\n",
      "Epoch 14/20\n",
      "\u001b[1m62/62\u001b[0m \u001b[32m━━━━━━━━━━━━━━━━━━━━\u001b[0m\u001b[37m\u001b[0m \u001b[1m1s\u001b[0m 12ms/step - loss: 5.1428e-04\n",
      "Epoch 15/20\n",
      "\u001b[1m62/62\u001b[0m \u001b[32m━━━━━━━━━━━━━━━━━━━━\u001b[0m\u001b[37m\u001b[0m \u001b[1m1s\u001b[0m 12ms/step - loss: 4.0949e-04\n",
      "Epoch 16/20\n",
      "\u001b[1m62/62\u001b[0m \u001b[32m━━━━━━━━━━━━━━━━━━━━\u001b[0m\u001b[37m\u001b[0m \u001b[1m1s\u001b[0m 13ms/step - loss: 4.0533e-04\n",
      "Epoch 17/20\n",
      "\u001b[1m62/62\u001b[0m \u001b[32m━━━━━━━━━━━━━━━━━━━━\u001b[0m\u001b[37m\u001b[0m \u001b[1m1s\u001b[0m 11ms/step - loss: 4.2571e-04\n",
      "Epoch 18/20\n",
      "\u001b[1m62/62\u001b[0m \u001b[32m━━━━━━━━━━━━━━━━━━━━\u001b[0m\u001b[37m\u001b[0m \u001b[1m1s\u001b[0m 11ms/step - loss: 3.7288e-04\n",
      "Epoch 19/20\n",
      "\u001b[1m62/62\u001b[0m \u001b[32m━━━━━━━━━━━━━━━━━━━━\u001b[0m\u001b[37m\u001b[0m \u001b[1m1s\u001b[0m 13ms/step - loss: 3.8840e-04\n",
      "Epoch 20/20\n",
      "\u001b[1m62/62\u001b[0m \u001b[32m━━━━━━━━━━━━━━━━━━━━\u001b[0m\u001b[37m\u001b[0m \u001b[1m1s\u001b[0m 12ms/step - loss: 3.5390e-04\n",
      "\u001b[1m8/8\u001b[0m \u001b[32m━━━━━━━━━━━━━━━━━━━━\u001b[0m\u001b[37m\u001b[0m \u001b[1m1s\u001b[0m 45ms/step\n",
      "LSTM RMSE: 4.714985836889856\n"
     ]
    }
   ],
   "source": [
    "# reshape train and test\n",
    "train_reshaped = train['AAPL'].values.reshape(-1, 1)\n",
    "test_reshaped = test['AAPL'].values.reshape(-1, 1)\n",
    "\n",
    "#scale data\n",
    "scaler = MinMaxScaler()\n",
    "train_scaled = scaler.fit_transform(train_reshaped)\n",
    "test_scaled = scaler.transform(test_reshaped)\n",
    "\n",
    "# create sequences\n",
    "def create_sequences(data, seq_length = 10):\n",
    "    X, y = [], []\n",
    "    for i in range(len(data) - seq_length):\n",
    "        X.append(data[i: i + seq_length])\n",
    "        y.append(data[i + seq_length])\n",
    "    return np.array(X), np.array(y)\n",
    "\n",
    "seq_length = 10\n",
    "X_train, y_train = create_sequences(train_scaled, seq_length)\n",
    "X_test, y_test = create_sequences(test_scaled, seq_length)\n",
    "\n",
    "# LSTM Model\n",
    "lstm_model = Sequential([\n",
    "    LSTM(50, activation = 'relu', return_sequences = True, input_shape = (seq_length, 1)),\n",
    "    LSTM(50, activation = 'relu'),\n",
    "    Dense(1)\n",
    "])\n",
    "lstm_model.compile(optimizer = 'adam', loss = 'mse')\n",
    "\n",
    "# train the model\n",
    "lstm_model.fit(X_train, y_train, epochs = 20, batch_size = 16)\n",
    "\n",
    "# forecast\n",
    "lstm_predictions = lstm_model.predict(X_test)\n",
    "lstm_predictions_inverse = scaler.inverse_transform(lstm_predictions)\n",
    "\n",
    "# Adjust y_test for evaluation to match the length of lstm_predictions\n",
    "y_test_adjusted = test_scaled[seq_length:seq_length + len(lstm_predictions)]\n",
    "\n",
    "# Rescale y_test_adjusted back to the original scale\n",
    "y_test_inverse = scaler.inverse_transform(y_test_adjusted)\n",
    "\n",
    "# Evaluate using RMSE\n",
    "rmse_lstm = mean_squared_error(y_test_inverse, lstm_predictions_inverse, squared=False)\n",
    "print(f\"LSTM RMSE: {rmse_lstm}\")\n",
    "\n"
   ]
  },
  {
   "cell_type": "markdown",
   "id": "919f20dd",
   "metadata": {},
   "source": [
    "### Prophet Model"
   ]
  },
  {
   "cell_type": "code",
   "execution_count": 23,
   "id": "f9ed3512",
   "metadata": {},
   "outputs": [
    {
     "name": "stderr",
     "output_type": "stream",
     "text": [
      "11:09:53 - cmdstanpy - INFO - Chain [1] start processing\n",
      "11:09:54 - cmdstanpy - INFO - Chain [1] done processing\n"
     ]
    },
    {
     "name": "stdout",
     "output_type": "stream",
     "text": [
      "Prophet RMSE: 45.0138767920423\n"
     ]
    }
   ],
   "source": [
    "# Prepare training data for Prophet\n",
    "prophet_train = train['AAPL'].reset_index()\n",
    "prophet_train.columns = ['ds', 'y']\n",
    "\n",
    "# Train Prophet model\n",
    "prophet_model = Prophet()\n",
    "prophet_model.fit(prophet_train)\n",
    "\n",
    "# Create future dataframe for forecasting\n",
    "future = test['AAPL'].reset_index()\n",
    "future.columns = ['ds', 'y']\n",
    "\n",
    "# Predict\n",
    "forecast = prophet_model.predict(future[['ds']])\n",
    "\n",
    "# Evaluate\n",
    "rmse_prophet = mean_squared_error(test['AAPL'], forecast['yhat'], squared=False)\n",
    "print(f\"Prophet RMSE: {rmse_prophet}\")"
   ]
  },
  {
   "cell_type": "markdown",
   "id": "31469620",
   "metadata": {},
   "source": [
    "### Random Forest & XGBoost \n",
    "- Use rolling features\n",
    "- Shuts down kernal, computational power error? "
   ]
  },
  {
   "cell_type": "code",
   "execution_count": 24,
   "id": "ec86d4bf",
   "metadata": {},
   "outputs": [],
   "source": [
    "# from xgboost import XGBRegressor\n",
    "# from sklearn.model_selection import train_test_split\n",
    "\n",
    "# # Prepare features and target\n",
    "# features = ['AAPL_MA10', 'AAPL_Volatility', 'AAPL_Adj_Close_lag1', 'AAPL_Adj_Close_lag2', 'day_of_week', 'month']\n",
    "# X_train = train[features]\n",
    "# y_train = train['AAPL']\n",
    "# X_test = test[features]\n",
    "# y_test = test['AAPL']\n",
    "\n",
    "# # Train XGBoost\n",
    "# xgb_model = XGBRegressor(n_estimators = 100, learning_rate = 0.1, max_depth = 5, random_state = 42)\n",
    "# xgb_model.fit(X_train, y_train)\n",
    "\n",
    "# # Predict and evalue\n",
    "# xgb_predictions = xgb_model.predict(X_test)\n",
    "# rmse_xgb = mean_squared_error(y_test, xgb_predictions, squared=False)\n",
    "# print(f\"XGBoost RMSE: {rmse_xgb}\")"
   ]
  },
  {
   "cell_type": "code",
   "execution_count": 25,
   "id": "1ec268c0",
   "metadata": {},
   "outputs": [
    {
     "data": {
      "image/png": "[encoded data removed]",
      "text/plain": [
       "<Figure size 1200x600 with 1 Axes>"
      ]
     },
     "metadata": {},
     "output_type": "display_data"
    }
   ],
   "source": [
    "# Plot actual vs forecasted prices for AAPL\n",
    "plt.figure(figsize=(12, 6))\n",
    "plt.plot(test.index, test['AAPL'], label='Actual Prices', color='blue', linewidth=2)\n",
    "plt.plot(naive_forecasts.index, naive_forecasts, label='Naive Forecast', color='red', linestyle='--')\n",
    "plt.plot(forecast_arima_original_scale.index, forecast_arima_original_scale, label='ARIMA Forecast', color='purple')\n",
    "plt.plot(test.index[seq_length:], lstm_predictions_inverse.flatten(), label='LSTM Forecast', color='green', linestyle='--')\n",
    "plt.plot(test.index, forecast['yhat'], label='Prophet Forecast', color='orange', linestyle=':')\n",
    "plt.title('AAPL Price Forecast vs Actuals', fontsize=16)\n",
    "plt.xlabel('Date', fontsize=14)\n",
    "plt.ylabel('Price', fontsize=14)\n",
    "plt.legend(fontsize=12)\n",
    "plt.grid(alpha=0.3)\n",
    "plt.show()"
   ]
  },
  {
   "cell_type": "markdown",
   "id": "45a1368b",
   "metadata": {},
   "source": [
    "### Findings\n",
    "- Leveage LSTM for trading algorithms given it's performance\n",
    "- Continous training and fine tuning on LSTM model with fresh data\n",
    "### Improvements\n",
    "- Hypertuning optimization like layers and learning rate can lead to better performance\n",
    "- Ensemble models could leverage the strenghts of each model and reduce errors\n",
    "- Test across other stocks and analyze how well model generalizes "
   ]
  }
 ],
 "metadata": {
  "kernelspec": {
   "display_name": "Python 3 (ipykernel)",
   "language": "python",
   "name": "python3"
  },
  "language_info": {
   "codemirror_mode": {
    "name": "ipython",
    "version": 3
   },
   "file_extension": ".py",
   "mimetype": "text/x-python",
   "name": "python",
   "nbconvert_exporter": "python",
   "pygments_lexer": "ipython3",
   "version": "3.11.5"
  }
 },
 "nbformat": 4,
 "nbformat_minor": 5
}
